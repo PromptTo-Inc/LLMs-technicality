{
 "cells": [
  {
   "cell_type": "code",
   "execution_count": 3,
   "id": "afef9323-fd8a-44cf-8d87-c5b9348a0af8",
   "metadata": {},
   "outputs": [
    {
     "name": "stdout",
     "output_type": "stream",
     "text": [
      "Requirement already satisfied: python-dotenv in d:\\anaconda\\lib\\site-packages (0.21.0)\n"
     ]
    }
   ],
   "source": [
    "# !pip install google-generativeai>=0.8.3\n",
    "!pip install python-dotenv"
   ]
  },
  {
   "cell_type": "code",
   "execution_count": 20,
   "id": "7389381d-b941-42f2-b6c1-9f177f983669",
   "metadata": {},
   "outputs": [],
   "source": [
    "import os\n",
    "import pandas as pd\n",
    "import numpy as np\n",
    "from dotenv import load_dotenv\n",
    "from google import generativeai as genai\n",
    "from IPython.display import HTML, Markdown, display\n",
    "import PIL.Image"
   ]
  },
  {
   "cell_type": "markdown",
   "id": "355e95b1-b48d-437c-97e8-621750a8e2d0",
   "metadata": {
    "editable": true,
    "slideshow": {
     "slide_type": ""
    },
    "tags": []
   },
   "source": [
    "### Add the API Keys"
   ]
  },
  {
   "cell_type": "code",
   "execution_count": 6,
   "id": "bcc25bad-c4b8-4d3f-bb3c-acd2ef3b5944",
   "metadata": {},
   "outputs": [],
   "source": [
    "# Load environment variables from the .env file\n",
    "load_dotenv()\n",
    "\n",
    "# Access a variable from the .env file\n",
    "secret_key = os.getenv(\"GOOGLE_API_KEY\")\n",
    "\n",
    "# Pass the api to the genai library\n",
    "genai.configure(api_key=secret_key)"
   ]
  },
  {
   "cell_type": "markdown",
   "id": "328fc533-5bed-4d93-8854-db576a60afe8",
   "metadata": {},
   "source": [
    "### Run different Gemini model"
   ]
  },
  {
   "cell_type": "code",
   "execution_count": 42,
   "id": "63e9466f-ab26-4cdb-9912-f5962296763d",
   "metadata": {
    "editable": true,
    "slideshow": {
     "slide_type": ""
    },
    "tags": []
   },
   "outputs": [
    {
     "name": "stdout",
     "output_type": "stream",
     "text": [
      "models/chat-bison-001\n",
      "models/text-bison-001\n",
      "models/embedding-gecko-001\n",
      "models/gemini-1.0-pro-latest\n",
      "models/gemini-1.0-pro\n",
      "models/gemini-pro\n",
      "models/gemini-1.0-pro-001\n",
      "models/gemini-1.0-pro-vision-latest\n",
      "models/gemini-pro-vision\n",
      "models/gemini-1.5-pro-latest\n",
      "models/gemini-1.5-pro-001\n",
      "models/gemini-1.5-pro-002\n",
      "models/gemini-1.5-pro\n",
      "models/gemini-1.5-pro-exp-0801\n",
      "models/gemini-1.5-pro-exp-0827\n",
      "models/gemini-1.5-flash-latest\n",
      "models/gemini-1.5-flash-001\n",
      "models/gemini-1.5-flash-001-tuning\n",
      "models/gemini-1.5-flash\n",
      "Model(name='models/gemini-1.5-flash',\n",
      "      base_model_id='',\n",
      "      version='001',\n",
      "      display_name='Gemini 1.5 Flash',\n",
      "      description='Fast and versatile multimodal model for scaling across diverse tasks',\n",
      "      input_token_limit=1000000,\n",
      "      output_token_limit=8192,\n",
      "      supported_generation_methods=['generateContent', 'countTokens'],\n",
      "      temperature=1.0,\n",
      "      max_temperature=2.0,\n",
      "      top_p=0.95,\n",
      "      top_k=40)\n",
      "models/gemini-1.5-flash-exp-0827\n",
      "models/gemini-1.5-flash-002\n",
      "models/gemini-1.5-flash-8b\n",
      "models/gemini-1.5-flash-8b-001\n",
      "models/gemini-1.5-flash-8b-latest\n",
      "models/gemini-1.5-flash-8b-exp-0827\n",
      "models/gemini-1.5-flash-8b-exp-0924\n",
      "models/embedding-001\n",
      "models/text-embedding-004\n",
      "models/aqa\n"
     ]
    }
   ],
   "source": [
    "for model in genai.list_models():\n",
    "    print(model.name)\n",
    "    # choose a vision model and print the documentations\n",
    "    if model.name == 'models/gemini-1.5-flash':\n",
    "        print(model)"
   ]
  },
  {
   "cell_type": "markdown",
   "id": "687a87d6-70aa-4a70-9c9b-6742874a709d",
   "metadata": {
    "editable": true,
    "slideshow": {
     "slide_type": ""
    },
    "tags": []
   },
   "source": [
    "### Import the image"
   ]
  },
  {
   "cell_type": "code",
   "execution_count": 32,
   "id": "1af67ea1-0a8a-4ed3-9134-ea7ec674848c",
   "metadata": {},
   "outputs": [
    {
     "data": {
      "image/jpeg": "[encoded data removed]",
      "image/png": "[encoded data removed]",
      "text/plain": [
       "<PIL.Image.Image image mode=RGB size=259x195>"
      ]
     },
     "metadata": {},
     "output_type": "display_data"
    }
   ],
   "source": [
    "\n",
    "# Path to the image\n",
    "# image_path = r\"C:\\Users\\Abdulrahman A\\AI-projects\\VLMsExperiment\\images (1).png\"\n",
    "\n",
    "# Display the image\n",
    "img = PIL.Image.open(\"./images (1).png\")\n",
    "img = img.convert(\"RGB\")\n",
    "display(img)"
   ]
  },
  {
   "cell_type": "markdown",
   "id": "2d1a9272",
   "metadata": {},
   "source": [
    "### Image Data Processing"
   ]
  },
  {
   "cell_type": "code",
   "execution_count": 40,
   "id": "5522c621",
   "metadata": {},
   "outputs": [],
   "source": [
    "from io import BytesIO\n",
    "\n",
    "# Save the image to a bytes object (in-memory binary stream)\n",
    "img_bytes = BytesIO()\n",
    "img.save(img_bytes, format=\"PNG\")\n",
    "img_bytes.seek(0)  # Rewind to the beginning of the stream\n",
    "\n",
    "# Create the dictionary in the expected format for `Blob`\n",
    "blob_data = {\n",
    "    \"mime_type\": \"image/png\",\n",
    "    \"data\": img_bytes.getvalue()  # Get the raw byte data of the image\n",
    "}"
   ]
  },
  {
   "cell_type": "markdown",
   "id": "c39c9fb7-063f-46c3-9750-17df8b2ace4c",
   "metadata": {},
   "source": [
    "### Specify the model"
   ]
  },
  {
   "cell_type": "code",
   "execution_count": null,
   "id": "7c03d44e-1a3a-4e10-8cd9-63f0d5096b3f",
   "metadata": {},
   "outputs": [
    {
     "data": {
      "text/markdown": [
       "The image shows a circuit diagram. The circuit is a 220V to 12V AC to DC converter with a bridge rectifier. \n",
       "\n",
       "The circuit has the following components:\n",
       "\n",
       "* A 220 ohm resistor. \n",
       "* A 1N4001 diode. \n",
       "* A 1.0k resistor.\n",
       "* A 2N2222 transistor.\n",
       "* A LM7800 voltage regulator.\n",
       "* Two 0.1 uF capacitors.\n",
       "* Four light bulbs.\n",
       "* A switch.\n",
       "\n",
       "The circuit works by taking 220V AC from the mains and converting it to 12V DC using the voltage regulator and rectifier. The voltage regulator is a 7800 series device, and the rectifier is a bridge type. The circuit also includes a switch for turning the circuit on and off. The 2N2222 transistor is used to control the flow of"
      ],
      "text/plain": [
       "<IPython.core.display.Markdown object>"
      ]
     },
     "execution_count": 41,
     "metadata": {},
     "output_type": "execute_result"
    }
   ],
   "source": [
    "model = genai.GenerativeModel(\n",
    "    'models/gemini-1.5-flash',\n",
    "    generation_config=genai.GenerationConfig(max_output_tokens=200))\n",
    "\n",
    "# task_prompt = f\"\"\"You are an embedded IoT engineer. \\\n",
    "#                 Your task is to analyze the connections between the components in the image.\n",
    "# \"\"\"\n",
    "response = model.generate_content([\"Tell me about the image\", blob_data])\n",
    "Markdown(response.text)"
   ]
  },
  {
   "cell_type": "code",
   "execution_count": null,
   "id": "aa91af03-64ef-4e3c-a935-0680ae0d7b23",
   "metadata": {},
   "outputs": [],
   "source": []
  }
 ],
 "metadata": {
  "kernelspec": {
   "display_name": "myenv",
   "language": "python",
   "name": "python3"
  },
  "language_info": {
   "codemirror_mode": {
    "name": "ipython",
    "version": 3
   },
   "file_extension": ".py",
   "mimetype": "text/x-python",
   "name": "python",
   "nbconvert_exporter": "python",
   "pygments_lexer": "ipython3",
   "version": "3.10.0"
  }
 },
 "nbformat": 4,
 "nbformat_minor": 5
}
